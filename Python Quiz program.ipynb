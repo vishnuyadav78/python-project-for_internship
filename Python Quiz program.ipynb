{
 "cells": [
  {
   "cell_type": "code",
   "execution_count": 1,
   "id": "32b53934-7527-4d40-8009-d026a407c626",
   "metadata": {},
   "outputs": [
    {
     "name": "stdout",
     "output_type": "stream",
     "text": [
      "Question 1: What is the capital of France?\n",
      "1. Paris\n",
      "2. Berlin\n",
      "3. Madrid\n",
      "4. Rome\n"
     ]
    },
    {
     "name": "stdin",
     "output_type": "stream",
     "text": [
      "Enter your choice (1, 2, 3, or 4):  1\n"
     ]
    },
    {
     "name": "stdout",
     "output_type": "stream",
     "text": [
      "Correct!\n",
      "\n",
      "Question 2: Which planet is known as the Red Planet?\n",
      "1. Earth\n",
      "2. Mars\n",
      "3. Venus\n",
      "4. Jupiter\n"
     ]
    },
    {
     "name": "stdin",
     "output_type": "stream",
     "text": [
      "Enter your choice (1, 2, 3, or 4):  4\n"
     ]
    },
    {
     "name": "stdout",
     "output_type": "stream",
     "text": [
      "Sorry, the correct answer was Mars\n",
      "\n",
      "Question 3: WhAT Is  is the capital of india?\n",
      "1. Earth\n",
      "2. New delhi\n",
      "3. NCR \n",
      "4. MUMBAI\n"
     ]
    },
    {
     "name": "stdin",
     "output_type": "stream",
     "text": [
      "Enter your choice (1, 2, 3, or 4):  2\n"
     ]
    },
    {
     "name": "stdout",
     "output_type": "stream",
     "text": [
      "Correct!\n",
      "\n",
      "Question 4: Which is the governig banking institute of india ?\n",
      "1. SBI\n",
      "2. UCO\n",
      "3. PNB\n",
      "4. RBI\n"
     ]
    },
    {
     "name": "stdin",
     "output_type": "stream",
     "text": [
      "Enter your choice (1, 2, 3, or 4):  2\n"
     ]
    },
    {
     "name": "stdout",
     "output_type": "stream",
     "text": [
      "Sorry, the correct answer was RBI\n",
      "\n",
      "Question 5: Which IS the leading space agency in india?\n",
      "1. Earth\n",
      "2. NASA\n",
      "3. SPACEX\n",
      "4. ISRO\n"
     ]
    },
    {
     "name": "stdin",
     "output_type": "stream",
     "text": [
      "Enter your choice (1, 2, 3, or 4):  2\n"
     ]
    },
    {
     "name": "stdout",
     "output_type": "stream",
     "text": [
      "Sorry, the correct answer was ISRO\n",
      "\n",
      "Your final score: 2/5\n"
     ]
    }
   ],
   "source": [
    "class Question:\n",
    "    def __init__(self, text, choices, correct_choice):\n",
    "        self.text = text\n",
    "        self.choices = choices\n",
    "        self.correct_choice = correct_choice\n",
    "\n",
    "    def check_answer(self, user_choice):\n",
    "        return user_choice == self.correct_choice\n",
    "\n",
    "# Example questions\n",
    "question1 = Question(\"What is the capital of France?\",\n",
    "                     [\"Paris\", \"Berlin\", \"Madrid\", \"Rome\"], 0)\n",
    "question2 = Question(\"Which planet is known as the Red Planet?\",\n",
    "                     [\"Earth\", \"Mars\", \"Venus\", \"Jupiter\"], 1)\n",
    "question3 = Question(\"WhAT Is  is the capital of india?\",\n",
    "                     [\"Earth\", \"New delhi\", \"NCR \", \"MUMBAI\"], 1)\n",
    "question4 = Question(\"Which is the governig banking institute of india ?\",\n",
    "                     [\"SBI\", \"UCO\", \"PNB\", \"RBI\"], 3)\n",
    "question5 = Question(\"Which IS the leading space agency in india?\",\n",
    "                     [\"Earth\", \"NASA\", \"SPACEX\", \"ISRO\"], 3)\n",
    "\n",
    "# List of questions\n",
    "questions = [question1, question2 , question3 ,  question4 , question5 ]\n",
    "\n",
    "def run_quiz(questions):\n",
    "    score = 0\n",
    "    for i, question in enumerate(questions, start=1):\n",
    "        print(f\"Question {i}: {question.text}\")\n",
    "        for j, choice in enumerate(question.choices):\n",
    "            print(f\"{j + 1}. {choice}\")\n",
    "        user_choice = int(input(\"Enter your choice (1, 2, 3, or 4): \")) - 1\n",
    "        if question.check_answer(user_choice):\n",
    "            print(\"Correct!\\n\")\n",
    "            score += 1\n",
    "        else:\n",
    "            print(f\"Sorry, the correct answer was {question.choices[question.correct_choice]}\\n\")\n",
    "    print(f\"Your final score: {score}/{len(questions)}\")\n",
    "\n",
    "if __name__ == \"__main__\":\n",
    "    run_quiz(questions)\n"
   ]
  },
  {
   "cell_type": "code",
   "execution_count": null,
   "id": "326ea8d0-8543-463c-91ef-954eaa389a33",
   "metadata": {},
   "outputs": [],
   "source": []
  }
 ],
 "metadata": {
  "kernelspec": {
   "display_name": "Python 3 (ipykernel)",
   "language": "python",
   "name": "python3"
  },
  "language_info": {
   "codemirror_mode": {
    "name": "ipython",
    "version": 3
   },
   "file_extension": ".py",
   "mimetype": "text/x-python",
   "name": "python",
   "nbconvert_exporter": "python",
   "pygments_lexer": "ipython3",
   "version": "3.12.1"
  }
 },
 "nbformat": 4,
 "nbformat_minor": 5
}
